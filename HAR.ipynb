{
  "nbformat": 4,
  "nbformat_minor": 0,
  "metadata": {
    "colab": {
      "provenance": []
    },
    "kernelspec": {
      "name": "python3",
      "display_name": "Python 3"
    },
    "language_info": {
      "name": "python"
    }
  },
  "cells": [
    {
      "cell_type": "code",
      "execution_count": 1,
      "metadata": {
        "id": "05zPpIK4r81S"
      },
      "outputs": [],
      "source": [
        "import os\n",
        "import cv2\n",
        "import imageio\n",
        "import numpy as np\n",
        "from multiprocessing import Pool\n",
        "from tensorflow.keras.utils import to_categorical\n",
        "from tensorflow.keras.layers import Input, TimeDistributed, GlobalAveragePooling2D, Dense, Reshape, Lambda\n",
        "from tensorflow.keras.models import Model\n",
        "from tensorflow.keras.optimizers import Adam\n",
        "from tensorflow.keras.applications import ResNet50\n",
        "import tensorflow as tf\n",
        "import matplotlib.pyplot as plt\n",
        "\n"
      ]
    },
    {
      "cell_type": "code",
      "source": [
        "# Mount Google Drive\n",
        "from google.colab import drive\n",
        "drive.mount('/content/drive')\n"
      ],
      "metadata": {
        "colab": {
          "base_uri": "https://localhost:8080/"
        },
        "id": "NLXovEBd7A1S",
        "outputId": "26d26f3f-2a23-4fa2-c4ed-7bfb46950dcc"
      },
      "execution_count": 2,
      "outputs": [
        {
          "output_type": "stream",
          "name": "stdout",
          "text": [
            "Mounted at /content/drive\n"
          ]
        }
      ]
    },
    {
      "cell_type": "code",
      "source": [
        "# Path to the dataset in your Google Drive\n",
        "dataset_path = '/content/drive/My Drive/HAR'"
      ],
      "metadata": {
        "id": "Gkho2-Hr8WdL"
      },
      "execution_count": 3,
      "outputs": []
    },
    {
      "cell_type": "code",
      "source": [
        "def generate_frame_data(video_path, target_size=(224, 224), num_frames=10, frame_skip=5):\n",
        "    frames = []\n",
        "    cap = cv2.VideoCapture(video_path)\n",
        "\n",
        "    total_frames = int(cap.get(cv2.CAP_PROP_FRAME_COUNT))\n",
        "    for frame_num in range(0, total_frames, frame_skip):\n",
        "        cap.set(cv2.CAP_PROP_POS_FRAMES, frame_num)\n",
        "        ret, frame = cap.read()\n",
        "\n",
        "        if not ret:\n",
        "            break\n",
        "\n",
        "        frame = cv2.resize(frame, target_size)\n",
        "        frames.append(frame)\n",
        "\n",
        "        if len(frames) == num_frames:\n",
        "            break\n",
        "\n",
        "    cap.release()\n",
        "    return frames\n"
      ],
      "metadata": {
        "id": "Yo9MQGdF2Bcn"
      },
      "execution_count": 4,
      "outputs": []
    },
    {
      "cell_type": "code",
      "source": [
        "def data_generator(video_paths, labels, target_size=(224, 224), num_frames=10, frame_skip=5, batch_size=32):\n",
        "    while True:\n",
        "        indices = np.random.choice(len(video_paths), batch_size, replace=False)\n",
        "        frames_batch = []\n",
        "        labels_batch = []\n",
        "\n",
        "        for index in indices:\n",
        "            video_path = video_paths[index]\n",
        "            label = labels[index]\n",
        "\n",
        "            frames = generate_frame_data(video_path, target_size, num_frames, frame_skip)\n",
        "            frames = np.array(frames)\n",
        "            label = np.array([1 if l == 'Violence' else 0 for l in label])\n",
        "\n",
        "            frames_batch.append(frames)\n",
        "            labels_batch.append(label)\n",
        "\n",
        "        yield np.array(frames_batch), np.array(labels_batch)\n"
      ],
      "metadata": {
        "id": "rQhZUlyP2EpZ"
      },
      "execution_count": 5,
      "outputs": []
    },
    {
      "cell_type": "code",
      "source": [
        "# List of video paths and corresponding labels\n",
        "video_paths = []\n",
        "labels = []\n",
        "\n",
        "for label in ['Violence', 'NonViolence']:\n",
        "    video_paths.extend([os.path.join(dataset_path, label, video_file) for video_file in os.listdir(os.path.join(dataset_path, label))])\n",
        "    labels.extend([label] * len(os.listdir(os.path.join(dataset_path, label))))"
      ],
      "metadata": {
        "id": "L1QFO9C_2G30"
      },
      "execution_count": 6,
      "outputs": []
    },
    {
      "cell_type": "code",
      "source": [
        "# Convert labels to one-hot encoding\n",
        "labels = to_categorical([1 if label == 'Violence' else 0 for label in labels], num_classes=2)\n"
      ],
      "metadata": {
        "id": "_o3nXh-x2Jwb"
      },
      "execution_count": 7,
      "outputs": []
    },
    {
      "cell_type": "code",
      "source": [
        "# Create data generator\n",
        "num_frames_per_video = 10\n",
        "frame_skip = 5\n",
        "batch_size = 32\n",
        "train_data_generator = data_generator(video_paths, labels, num_frames=num_frames_per_video, frame_skip=frame_skip, batch_size=batch_size)\n"
      ],
      "metadata": {
        "id": "HxslLxqg2Lxm"
      },
      "execution_count": 8,
      "outputs": []
    },
    {
      "cell_type": "code",
      "source": [
        "# Load pre-trained ResNet50 model without the top layer\n",
        "base_model = ResNet50(weights='imagenet', include_top=False, input_shape=(224, 224, 3))"
      ],
      "metadata": {
        "id": "25beg1ER2PUy",
        "colab": {
          "base_uri": "https://localhost:8080/"
        },
        "outputId": "e19e17c8-ed7d-463f-a333-ba5bec3b318b"
      },
      "execution_count": 9,
      "outputs": [
        {
          "output_type": "stream",
          "name": "stdout",
          "text": [
            "Downloading data from https://storage.googleapis.com/tensorflow/keras-applications/resnet/resnet50_weights_tf_dim_ordering_tf_kernels_notop.h5\n",
            "94765736/94765736 [==============================] - 1s 0us/step\n"
          ]
        }
      ]
    },
    {
      "cell_type": "code",
      "source": [
        "# Freeze the layers of the base model\n",
        "for layer in base_model.layers:\n",
        "    layer.trainable = False"
      ],
      "metadata": {
        "id": "T_bt3wk62SJ7"
      },
      "execution_count": 10,
      "outputs": []
    },
    {
      "cell_type": "code",
      "source": [
        "# Create a new model on top of the pre-trained base model\n",
        "inputs = Input(shape=(num_frames_per_video, 224, 224, 3))\n",
        "x = TimeDistributed(base_model)(inputs)"
      ],
      "metadata": {
        "id": "6qPOzYUy2WsU"
      },
      "execution_count": 11,
      "outputs": []
    },
    {
      "cell_type": "code",
      "source": [
        "# Reshape the output\n",
        "x = Reshape((num_frames_per_video, 7 * 7 * 2048))(x)"
      ],
      "metadata": {
        "id": "ZSiEY7oV2Y2N"
      },
      "execution_count": 12,
      "outputs": []
    },
    {
      "cell_type": "code",
      "source": [
        "# Apply GlobalAveragePooling2D\n",
        "x = Lambda(lambda x: tf.reduce_mean(x, axis=1))(x)\n"
      ],
      "metadata": {
        "id": "Ujd2LvtL2bJW"
      },
      "execution_count": 13,
      "outputs": []
    },
    {
      "cell_type": "code",
      "source": [
        "# Continue with the rest of the model\n",
        "x = Dense(128, activation='relu')(x)\n",
        "outputs = Dense(2, activation='softmax')(x)\n",
        "\n",
        "model = Model(inputs, outputs)"
      ],
      "metadata": {
        "id": "l_KeGj3z2dJm"
      },
      "execution_count": 14,
      "outputs": []
    },
    {
      "cell_type": "code",
      "source": [
        "# Compile the model\n",
        "model.compile(optimizer=Adam(lr=0.001), loss='categorical_crossentropy', metrics=['accuracy'])\n"
      ],
      "metadata": {
        "colab": {
          "base_uri": "https://localhost:8080/"
        },
        "id": "hiXf6Ecs21Ay",
        "outputId": "5987a302-a00a-4ccd-85ae-e70e6befa3fd"
      },
      "execution_count": 15,
      "outputs": [
        {
          "output_type": "stream",
          "name": "stderr",
          "text": [
            "WARNING:absl:`lr` is deprecated in Keras optimizer, please use `learning_rate` or use the legacy optimizer, e.g.,tf.keras.optimizers.legacy.Adam.\n"
          ]
        }
      ]
    },
    {
      "cell_type": "code",
      "source": [
        "# Train the model\n",
        "epochs = 1\n",
        "steps_per_epoch = len(video_paths) // batch_size\n",
        "history = model.fit(train_data_generator, epochs=epochs, steps_per_epoch=steps_per_epoch)\n"
      ],
      "metadata": {
        "colab": {
          "base_uri": "https://localhost:8080/"
        },
        "id": "2z5FEGUpQ8wl",
        "outputId": "bc4fadde-34a4-4d9e-fd8d-fcd74488365d"
      },
      "execution_count": 16,
      "outputs": [
        {
          "output_type": "stream",
          "name": "stdout",
          "text": [
            "6/6 [==============================] - 565s 89s/step - loss: 0.0000e+00 - accuracy: 0.5052\n"
          ]
        }
      ]
    },
    {
      "cell_type": "code",
      "source": [
        "# Visualize training history\n",
        "plt.plot(history.history['accuracy'])\n",
        "plt.title('Model Accuracy')\n",
        "plt.ylabel('Accuracy')\n",
        "plt.xlabel('Epoch')\n",
        "plt.show()"
      ],
      "metadata": {
        "id": "B4Issjy83Mix",
        "colab": {
          "base_uri": "https://localhost:8080/",
          "height": 472
        },
        "outputId": "fd7f0426-ad7b-4306-d555-0d8b9e9e1036"
      },
      "execution_count": 17,
      "outputs": [
        {
          "output_type": "display_data",
          "data": {
            "text/plain": [
              "<Figure size 640x480 with 1 Axes>"
            ],
            "image/png": "[encoded data removed]"
          },
          "metadata": {}
        }
      ]
    },
    {
      "cell_type": "code",
      "source": [
        "# Save the model\n",
        "model.save('/content/drive/My Drive/violence_detection_model.h5')"
      ],
      "metadata": {
        "id": "zn8ekQAD5BcA",
        "colab": {
          "base_uri": "https://localhost:8080/"
        },
        "outputId": "85f8bcc2-0de2-4783-f5e0-87d946eab9ac"
      },
      "execution_count": 18,
      "outputs": [
        {
          "output_type": "stream",
          "name": "stderr",
          "text": [
            "/usr/local/lib/python3.10/dist-packages/keras/src/engine/training.py:3103: UserWarning: You are saving your model as an HDF5 file via `model.save()`. This file format is considered legacy. We recommend using instead the native Keras format, e.g. `model.save('my_model.keras')`.\n",
            "  saving_api.save_model(\n"
          ]
        }
      ]
    },
    {
      "cell_type": "code",
      "source": [
        "# Choose some random videos for prediction\n",
        "test_indices = np.random.choice(len(video_paths), 5, replace=False)\n",
        "test_videos = [video_paths[i] for i in test_indices]\n",
        "\n",
        "# Generate predictions for the selected videos\n",
        "for video_path in test_videos:\n",
        "    frames = generate_frame_data(video_path, target_size=(224, 224), num_frames=10, frame_skip=5)\n",
        "    frames = np.array(frames)\n",
        "    frames = tf.image.resize(frames, (224, 224))\n",
        "    frames = tf.convert_to_tensor(frames, dtype=tf.float32)\n",
        "    frames = tf.expand_dims(frames, axis=0)\n",
        "\n",
        "    prediction = model.predict(frames)\n",
        "    predicted_class = np.argmax(prediction)\n",
        "\n",
        "    label = 'Violence' if 'Violence' in video_path else 'Non-Violence'\n",
        "    predicted_label = 'Violence' if predicted_class == 1 else 'Non-Violence'\n",
        "\n",
        "    print(f'Actual Label: {label}, Predicted Label: {predicted_label}, Prediction: {prediction}')\n"
      ],
      "metadata": {
        "colab": {
          "base_uri": "https://localhost:8080/"
        },
        "id": "nGKnuXsJ35rw",
        "outputId": "3e764def-7bff-4a63-ca79-4a7c951afe26"
      },
      "execution_count": 20,
      "outputs": [
        {
          "output_type": "stream",
          "name": "stdout",
          "text": [
            "1/1 [==============================] - 6s 6s/step\n",
            "Actual Label: Violence, Predicted Label: Non-Violence, Prediction: [[1.000000e+00 7.187586e-29]]\n",
            "1/1 [==============================] - 2s 2s/step\n",
            "Actual Label: Violence, Predicted Label: Non-Violence, Prediction: [[1.000000e+00 5.633041e-22]]\n",
            "1/1 [==============================] - 2s 2s/step\n",
            "Actual Label: Violence, Predicted Label: Non-Violence, Prediction: [[1. 0.]]\n",
            "1/1 [==============================] - 2s 2s/step\n",
            "Actual Label: Violence, Predicted Label: Non-Violence, Prediction: [[9.9999714e-01 2.9042612e-06]]\n",
            "1/1 [==============================] - 3s 3s/step\n",
            "Actual Label: Violence, Predicted Label: Violence, Prediction: [[0.01614605 0.98385394]]\n"
          ]
        }
      ]
    },
    {
      "cell_type": "code",
      "source": [],
      "metadata": {
        "id": "bBIY-ff83-FP"
      },
      "execution_count": null,
      "outputs": []
    }
  ]
}